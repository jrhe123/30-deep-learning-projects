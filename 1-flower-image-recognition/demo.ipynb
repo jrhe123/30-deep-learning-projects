{
 "cells": [
  {
   "cell_type": "code",
   "execution_count": 2,
   "metadata": {},
   "outputs": [],
   "source": [
    "import os\n",
    "import matplotlib.pyplot as plt\n",
    "%matplotlib inline\n",
    "\n",
    "import numpy as np\n",
    "import torch\n",
    "from torch import nn\n",
    "import torch.optim as optim\n",
    "import torchvision\n",
    "from torchvision import transforms, models, datasets\n",
    "import imageio\n",
    "import time\n",
    "import warnings\n",
    "warnings.filterwarnings(\"ignore\")\n",
    "\n",
    "import random\n",
    "import sys\n",
    "import copy\n",
    "import json\n",
    "from PIL import Image"
   ]
  },
  {
   "cell_type": "markdown",
   "metadata": {},
   "source": [
    "## Load dataset and preprocess"
   ]
  },
  {
   "cell_type": "code",
   "execution_count": 5,
   "metadata": {},
   "outputs": [],
   "source": [
    "data_dir = \"../images/flower_images/\"\n",
    "train_dir = data_dir + \"train\"\n",
    "valid_dir = data_dir + \"valid\""
   ]
  },
  {
   "cell_type": "markdown",
   "metadata": {},
   "source": [
    "## Data transforms"
   ]
  },
  {
   "cell_type": "code",
   "execution_count": null,
   "metadata": {},
   "outputs": [],
   "source": [
    "data_transforms = {\n",
    "    # augmentation\n",
    "    \"train\": transforms.Compose([\n",
    "        transforms.Resize([96, 96]),\n",
    "        transforms.RandomRotation(45),\n",
    "        transforms.CenterCrop(64), # crop the center of the image 64x64\n",
    "        transforms.RandomHorizontalFlip(p=0.5),\n",
    "        transforms.RandomVerticalFlip(p=0.5),\n",
    "        transforms.ColorJitter(brightness=0.2, contrast=0.2, saturation=0.1, hue=0.1),\n",
    "        transforms.RandomGrayscale(p=0.025),\n",
    "        transforms.ToTensor(),\n",
    "        transforms.Normalize([0.485, 0.456, 0.406], [0.229, 0.224, 0.225]) # mean and std\n",
    "    ]),\n",
    "    \"valid\": transforms.Compose([\n",
    "        transforms.Resize([64, 64]),\n",
    "        transforms.ToTensor(),\n",
    "        transforms.Normalize([0.485, 0.456, 0.406], [0.229, 0.224, 0.225])\n",
    "    ])\n",
    "}"
   ]
  },
  {
   "cell_type": "code",
   "execution_count": null,
   "metadata": {},
   "outputs": [],
   "source": [
    "batch_size = 128\n",
    "\n",
    "# load data with folder index 1,2,3,...102\n",
    "image_datasets = {\n",
    "    x: datasets.ImageFolder(os.path.join(data_dir, x), data_transforms[x]) \\\n",
    "        for x in ['train', 'valid']\n",
    "}\n",
    "dataloaders = {\n",
    "    x: torch.utils.data.DataLoader(image_datasets[x], batch_size=batch_size, shuffle=True) \\\n",
    "        for x in ['train', 'valid']\n",
    "}\n",
    "dataset_sizes = {\n",
    "    x: len(image_datasets[x]) \\\n",
    "        for x in ['train', 'valid']\n",
    "}\n",
    "class_names = image_datasets['train'].classes"
   ]
  },
  {
   "cell_type": "code",
   "execution_count": 11,
   "metadata": {},
   "outputs": [
    {
     "data": {
      "text/plain": [
       "{'train': Dataset ImageFolder\n",
       "     Number of datapoints: 6552\n",
       "     Root location: ../images/flower_images/train\n",
       "     StandardTransform\n",
       " Transform: Compose(\n",
       "                Resize(size=[96, 96], interpolation=bilinear, max_size=None, antialias=True)\n",
       "                RandomRotation(degrees=[-45.0, 45.0], interpolation=nearest, expand=False, fill=0)\n",
       "                CenterCrop(size=(64, 64))\n",
       "                RandomHorizontalFlip(p=0.5)\n",
       "                RandomVerticalFlip(p=0.5)\n",
       "                ColorJitter(brightness=(0.8, 1.2), contrast=(0.8, 1.2), saturation=(0.9, 1.1), hue=(-0.1, 0.1))\n",
       "                RandomGrayscale(p=0.025)\n",
       "                ToTensor()\n",
       "                Normalize(mean=[0.485, 0.456, 0.406], std=[0.229, 0.224, 0.225])\n",
       "            ),\n",
       " 'valid': Dataset ImageFolder\n",
       "     Number of datapoints: 818\n",
       "     Root location: ../images/flower_images/valid\n",
       "     StandardTransform\n",
       " Transform: Compose(\n",
       "                Resize(size=[64, 64], interpolation=bilinear, max_size=None, antialias=True)\n",
       "                ToTensor()\n",
       "                Normalize(mean=[0.485, 0.456, 0.406], std=[0.229, 0.224, 0.225])\n",
       "            )}"
      ]
     },
     "execution_count": 11,
     "metadata": {},
     "output_type": "execute_result"
    }
   ],
   "source": [
    "image_datasets"
   ]
  },
  {
   "cell_type": "code",
   "execution_count": 12,
   "metadata": {},
   "outputs": [
    {
     "data": {
      "text/plain": [
       "{'train': <torch.utils.data.dataloader.DataLoader at 0x136887cb0>,\n",
       " 'valid': <torch.utils.data.dataloader.DataLoader at 0x1366ef4d0>}"
      ]
     },
     "execution_count": 12,
     "metadata": {},
     "output_type": "execute_result"
    }
   ],
   "source": [
    "dataloaders"
   ]
  },
  {
   "cell_type": "code",
   "execution_count": 13,
   "metadata": {},
   "outputs": [
    {
     "data": {
      "text/plain": [
       "{'train': 6552, 'valid': 818}"
      ]
     },
     "execution_count": 13,
     "metadata": {},
     "output_type": "execute_result"
    }
   ],
   "source": [
    "dataset_sizes"
   ]
  },
  {
   "cell_type": "code",
   "execution_count": 14,
   "metadata": {},
   "outputs": [
    {
     "data": {
      "text/plain": [
       "['1',\n",
       " '10',\n",
       " '100',\n",
       " '101',\n",
       " '102',\n",
       " '11',\n",
       " '12',\n",
       " '13',\n",
       " '14',\n",
       " '15',\n",
       " '16',\n",
       " '17',\n",
       " '18',\n",
       " '19',\n",
       " '2',\n",
       " '20',\n",
       " '21',\n",
       " '22',\n",
       " '23',\n",
       " '24',\n",
       " '25',\n",
       " '26',\n",
       " '27',\n",
       " '28',\n",
       " '29',\n",
       " '3',\n",
       " '30',\n",
       " '31',\n",
       " '32',\n",
       " '33',\n",
       " '34',\n",
       " '35',\n",
       " '36',\n",
       " '37',\n",
       " '38',\n",
       " '39',\n",
       " '4',\n",
       " '40',\n",
       " '41',\n",
       " '42',\n",
       " '43',\n",
       " '44',\n",
       " '45',\n",
       " '46',\n",
       " '47',\n",
       " '48',\n",
       " '49',\n",
       " '5',\n",
       " '50',\n",
       " '51',\n",
       " '52',\n",
       " '53',\n",
       " '54',\n",
       " '55',\n",
       " '56',\n",
       " '57',\n",
       " '58',\n",
       " '59',\n",
       " '6',\n",
       " '60',\n",
       " '61',\n",
       " '62',\n",
       " '63',\n",
       " '64',\n",
       " '65',\n",
       " '66',\n",
       " '67',\n",
       " '68',\n",
       " '69',\n",
       " '7',\n",
       " '70',\n",
       " '71',\n",
       " '72',\n",
       " '73',\n",
       " '74',\n",
       " '75',\n",
       " '76',\n",
       " '77',\n",
       " '78',\n",
       " '79',\n",
       " '8',\n",
       " '80',\n",
       " '81',\n",
       " '82',\n",
       " '83',\n",
       " '84',\n",
       " '85',\n",
       " '86',\n",
       " '87',\n",
       " '88',\n",
       " '89',\n",
       " '9',\n",
       " '90',\n",
       " '91',\n",
       " '92',\n",
       " '93',\n",
       " '94',\n",
       " '95',\n",
       " '96',\n",
       " '97',\n",
       " '98',\n",
       " '99']"
      ]
     },
     "execution_count": 14,
     "metadata": {},
     "output_type": "execute_result"
    }
   ],
   "source": [
    "class_names"
   ]
  },
  {
   "cell_type": "code",
   "execution_count": null,
   "metadata": {},
   "outputs": [],
   "source": [
    "# id -> flower name\n",
    "with open(\"./cat_to_name.json\") as f:\n",
    "    cat_to_name = json.load(f)"
   ]
  },
  {
   "cell_type": "code",
   "execution_count": 16,
   "metadata": {},
   "outputs": [
    {
     "data": {
      "text/plain": [
       "{'21': 'fire lily',\n",
       " '3': 'canterbury bells',\n",
       " '45': 'bolero deep blue',\n",
       " '1': 'pink primrose',\n",
       " '34': 'mexican aster',\n",
       " '27': 'prince of wales feathers',\n",
       " '7': 'moon orchid',\n",
       " '16': 'globe-flower',\n",
       " '25': 'grape hyacinth',\n",
       " '26': 'corn poppy',\n",
       " '79': 'toad lily',\n",
       " '39': 'siam tulip',\n",
       " '24': 'red ginger',\n",
       " '67': 'spring crocus',\n",
       " '35': 'alpine sea holly',\n",
       " '32': 'garden phlox',\n",
       " '10': 'globe thistle',\n",
       " '6': 'tiger lily',\n",
       " '93': 'ball moss',\n",
       " '33': 'love in the mist',\n",
       " '9': 'monkshood',\n",
       " '102': 'blackberry lily',\n",
       " '14': 'spear thistle',\n",
       " '19': 'balloon flower',\n",
       " '100': 'blanket flower',\n",
       " '13': 'king protea',\n",
       " '49': 'oxeye daisy',\n",
       " '15': 'yellow iris',\n",
       " '61': 'cautleya spicata',\n",
       " '31': 'carnation',\n",
       " '64': 'silverbush',\n",
       " '68': 'bearded iris',\n",
       " '63': 'black-eyed susan',\n",
       " '69': 'windflower',\n",
       " '62': 'japanese anemone',\n",
       " '20': 'giant white arum lily',\n",
       " '38': 'great masterwort',\n",
       " '4': 'sweet pea',\n",
       " '86': 'tree mallow',\n",
       " '101': 'trumpet creeper',\n",
       " '42': 'daffodil',\n",
       " '22': 'pincushion flower',\n",
       " '2': 'hard-leaved pocket orchid',\n",
       " '54': 'sunflower',\n",
       " '66': 'osteospermum',\n",
       " '70': 'tree poppy',\n",
       " '85': 'desert-rose',\n",
       " '99': 'bromelia',\n",
       " '87': 'magnolia',\n",
       " '5': 'english marigold',\n",
       " '92': 'bee balm',\n",
       " '28': 'stemless gentian',\n",
       " '97': 'mallow',\n",
       " '57': 'gaura',\n",
       " '40': 'lenten rose',\n",
       " '47': 'marigold',\n",
       " '59': 'orange dahlia',\n",
       " '48': 'buttercup',\n",
       " '55': 'pelargonium',\n",
       " '36': 'ruby-lipped cattleya',\n",
       " '91': 'hippeastrum',\n",
       " '29': 'artichoke',\n",
       " '71': 'gazania',\n",
       " '90': 'canna lily',\n",
       " '18': 'peruvian lily',\n",
       " '98': 'mexican petunia',\n",
       " '8': 'bird of paradise',\n",
       " '30': 'sweet william',\n",
       " '17': 'purple coneflower',\n",
       " '52': 'wild pansy',\n",
       " '84': 'columbine',\n",
       " '12': \"colt's foot\",\n",
       " '11': 'snapdragon',\n",
       " '96': 'camellia',\n",
       " '23': 'fritillary',\n",
       " '50': 'common dandelion',\n",
       " '44': 'poinsettia',\n",
       " '53': 'primula',\n",
       " '72': 'azalea',\n",
       " '65': 'californian poppy',\n",
       " '80': 'anthurium',\n",
       " '76': 'morning glory',\n",
       " '37': 'cape flower',\n",
       " '56': 'bishop of llandaff',\n",
       " '60': 'pink-yellow dahlia',\n",
       " '82': 'clematis',\n",
       " '58': 'geranium',\n",
       " '75': 'thorn apple',\n",
       " '41': 'barbeton daisy',\n",
       " '95': 'bougainvillea',\n",
       " '43': 'sword lily',\n",
       " '83': 'hibiscus',\n",
       " '78': 'lotus lotus',\n",
       " '88': 'cyclamen',\n",
       " '94': 'foxglove',\n",
       " '81': 'frangipani',\n",
       " '74': 'rose',\n",
       " '89': 'watercress',\n",
       " '73': 'water lily',\n",
       " '46': 'wallflower',\n",
       " '77': 'passion flower',\n",
       " '51': 'petunia'}"
      ]
     },
     "execution_count": 16,
     "metadata": {},
     "output_type": "execute_result"
    }
   ],
   "source": [
    "cat_to_name"
   ]
  },
  {
   "cell_type": "markdown",
   "metadata": {},
   "source": [
    "## Pre-trained model"
   ]
  },
  {
   "cell_type": "code",
   "execution_count": null,
   "metadata": {},
   "outputs": [],
   "source": [
    "model_name = \"resnet\" # resnet, alexnet, vgg, squeezenet, densenet, inception\n",
    "feature_extract = True"
   ]
  },
  {
   "cell_type": "code",
   "execution_count": null,
   "metadata": {},
   "outputs": [],
   "source": [
    "# check device\n",
    "device = \"cuda:0\" if torch.cuda.is_available() else \\\n",
    "    \"mps\" if torch.backends.mps.is_available() else \"cpu\"\n",
    "device = torch.device(device)"
   ]
  },
  {
   "cell_type": "code",
   "execution_count": null,
   "metadata": {},
   "outputs": [],
   "source": []
  }
 ],
 "metadata": {
  "kernelspec": {
   "display_name": "30-deep",
   "language": "python",
   "name": "python3"
  },
  "language_info": {
   "codemirror_mode": {
    "name": "ipython",
    "version": 3
   },
   "file_extension": ".py",
   "mimetype": "text/x-python",
   "name": "python",
   "nbconvert_exporter": "python",
   "pygments_lexer": "ipython3",
   "version": "3.12.9"
  }
 },
 "nbformat": 4,
 "nbformat_minor": 2
}
