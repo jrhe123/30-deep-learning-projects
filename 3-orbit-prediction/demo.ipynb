{
 "cells": [
  {
   "cell_type": "code",
   "execution_count": 15,
   "metadata": {},
   "outputs": [
    {
     "name": "stdout",
     "output_type": "stream",
     "text": [
      "Obtaining file:///Users/jiaronghe/Desktop/projects/30-deep-learning-projects/3-orbit-prediction/argoverse-api-master\n",
      "  Installing build dependencies ... \u001b[?25ldone\n",
      "\u001b[?25h  Checking if build backend supports build_editable ... \u001b[?25ldone\n",
      "\u001b[?25h  Getting requirements to build editable ... \u001b[?25ldone\n",
      "\u001b[?25h  Preparing editable metadata (pyproject.toml) ... \u001b[?25ldone\n",
      "\u001b[?25hCollecting colour (from argoverse==1.1.0)\n",
      "  Using cached colour-0.1.5-py2.py3-none-any.whl.metadata (18 kB)\n",
      "Collecting descartes (from argoverse==1.1.0)\n",
      "  Using cached descartes-1.1.0-py3-none-any.whl.metadata (2.4 kB)\n",
      "Collecting h5py (from argoverse==1.1.0)\n",
      "  Using cached h5py-3.11.0-cp38-cp38-macosx_11_0_arm64.whl.metadata (2.5 kB)\n",
      "Collecting hydra-core==1.1.0 (from argoverse==1.1.0)\n",
      "  Using cached hydra_core-1.1.0-py3-none-any.whl.metadata (4.1 kB)\n",
      "Collecting imageio (from argoverse==1.1.0)\n",
      "  Using cached imageio-2.35.1-py3-none-any.whl.metadata (4.9 kB)\n",
      "Collecting lapsolver (from argoverse==1.1.0)\n",
      "  Using cached lapsolver-1.1.0.tar.gz (261 kB)\n",
      "  Preparing metadata (setup.py) ... \u001b[?25ldone\n",
      "\u001b[?25hCollecting matplotlib (from argoverse==1.1.0)\n",
      "  Using cached matplotlib-3.7.5-cp38-cp38-macosx_11_0_arm64.whl.metadata (5.7 kB)\n",
      "Collecting motmetrics==1.1.3 (from argoverse==1.1.0)\n",
      "  Using cached motmetrics-1.1.3-py3-none-any.whl.metadata (399 bytes)\n",
      "Collecting numba (from argoverse==1.1.0)\n",
      "  Using cached numba-0.58.1-cp38-cp38-macosx_11_0_arm64.whl.metadata (2.7 kB)\n",
      "Collecting numpy==1.19 (from argoverse==1.1.0)\n",
      "  Using cached numpy-1.19.0.zip (7.3 MB)\n",
      "  Installing build dependencies ... \u001b[?25ldone\n",
      "\u001b[?25h  Getting requirements to build wheel ... \u001b[?25ldone\n",
      "\u001b[?25h  Preparing metadata (pyproject.toml) ... \u001b[?25lerror\n",
      "  \u001b[1;31merror\u001b[0m: \u001b[1msubprocess-exited-with-error\u001b[0m\n",
      "  \n",
      "  \u001b[31m×\u001b[0m \u001b[32mPreparing metadata \u001b[0m\u001b[1;32m(\u001b[0m\u001b[32mpyproject.toml\u001b[0m\u001b[1;32m)\u001b[0m did not run successfully.\n",
      "  \u001b[31m│\u001b[0m exit code: \u001b[1;36m1\u001b[0m\n",
      "  \u001b[31m╰─>\u001b[0m \u001b[31m[24 lines of output]\u001b[0m\n",
      "  \u001b[31m   \u001b[0m Running from numpy source directory.\n",
      "  \u001b[31m   \u001b[0m <string>:460: UserWarning: Unrecognized setuptools command, proceeding with generating Cython sources and expanding templates\n",
      "  \u001b[31m   \u001b[0m Traceback (most recent call last):\n",
      "  \u001b[31m   \u001b[0m   File \"/Users/jiaronghe/anaconda3/envs/argoverse_env/lib/python3.8/site-packages/pip/_vendor/pyproject_hooks/_in_process/_in_process.py\", line 389, in <module>\n",
      "  \u001b[31m   \u001b[0m     main()\n",
      "  \u001b[31m   \u001b[0m   File \"/Users/jiaronghe/anaconda3/envs/argoverse_env/lib/python3.8/site-packages/pip/_vendor/pyproject_hooks/_in_process/_in_process.py\", line 373, in main\n",
      "  \u001b[31m   \u001b[0m     json_out[\"return_val\"] = hook(**hook_input[\"kwargs\"])\n",
      "  \u001b[31m   \u001b[0m   File \"/Users/jiaronghe/anaconda3/envs/argoverse_env/lib/python3.8/site-packages/pip/_vendor/pyproject_hooks/_in_process/_in_process.py\", line 175, in prepare_metadata_for_build_wheel\n",
      "  \u001b[31m   \u001b[0m     return hook(metadata_directory, config_settings)\n",
      "  \u001b[31m   \u001b[0m   File \"/private/var/folders/qn/q_wdcf6x4kx5w2f12hyjr3700000gn/T/pip-build-env-20xksrll/overlay/lib/python3.8/site-packages/setuptools/build_meta.py\", line 376, in prepare_metadata_for_build_wheel\n",
      "  \u001b[31m   \u001b[0m     self.run_setup()\n",
      "  \u001b[31m   \u001b[0m   File \"/private/var/folders/qn/q_wdcf6x4kx5w2f12hyjr3700000gn/T/pip-build-env-20xksrll/overlay/lib/python3.8/site-packages/setuptools/build_meta.py\", line 521, in run_setup\n",
      "  \u001b[31m   \u001b[0m     super().run_setup(setup_script=setup_script)\n",
      "  \u001b[31m   \u001b[0m   File \"/private/var/folders/qn/q_wdcf6x4kx5w2f12hyjr3700000gn/T/pip-build-env-20xksrll/overlay/lib/python3.8/site-packages/setuptools/build_meta.py\", line 319, in run_setup\n",
      "  \u001b[31m   \u001b[0m     exec(code, locals())\n",
      "  \u001b[31m   \u001b[0m   File \"<string>\", line 489, in <module>\n",
      "  \u001b[31m   \u001b[0m   File \"<string>\", line 465, in setup_package\n",
      "  \u001b[31m   \u001b[0m   File \"/private/var/folders/qn/q_wdcf6x4kx5w2f12hyjr3700000gn/T/pip-install-zhl2upxo/numpy_8ae876dabfd04691adea223cbebffbeb/numpy/distutils/core.py\", line 24, in <module>\n",
      "  \u001b[31m   \u001b[0m     from numpy.distutils.command import config, config_compiler, \\\n",
      "  \u001b[31m   \u001b[0m   File \"/private/var/folders/qn/q_wdcf6x4kx5w2f12hyjr3700000gn/T/pip-install-zhl2upxo/numpy_8ae876dabfd04691adea223cbebffbeb/numpy/distutils/command/config.py\", line 19, in <module>\n",
      "  \u001b[31m   \u001b[0m     from numpy.distutils.mingw32ccompiler import generate_manifest\n",
      "  \u001b[31m   \u001b[0m   File \"/private/var/folders/qn/q_wdcf6x4kx5w2f12hyjr3700000gn/T/pip-install-zhl2upxo/numpy_8ae876dabfd04691adea223cbebffbeb/numpy/distutils/mingw32ccompiler.py\", line 28, in <module>\n",
      "  \u001b[31m   \u001b[0m     from distutils.msvccompiler import get_build_version as get_build_msvc_version\n",
      "  \u001b[31m   \u001b[0m ModuleNotFoundError: No module named 'distutils.msvccompiler'\n",
      "  \u001b[31m   \u001b[0m \u001b[31m[end of output]\u001b[0m\n",
      "  \n",
      "  \u001b[1;35mnote\u001b[0m: This error originates from a subprocess, and is likely not a problem with pip.\n",
      "\u001b[?25h\u001b[1;31merror\u001b[0m: \u001b[1mmetadata-generation-failed\u001b[0m\n",
      "\n",
      "\u001b[31m×\u001b[0m Encountered error while generating package metadata.\n",
      "\u001b[31m╰─>\u001b[0m See above for output.\n",
      "\n",
      "\u001b[1;35mnote\u001b[0m: This is an issue with the package mentioned above, not pip.\n",
      "\u001b[1;36mhint\u001b[0m: See above for details.\n"
     ]
    }
   ],
   "source": [
    "!pip3 install -e argoverse-api-master/"
   ]
  }
 ],
 "metadata": {
  "kernelspec": {
   "display_name": "argoverse_env",
   "language": "python",
   "name": "python3"
  },
  "language_info": {
   "codemirror_mode": {
    "name": "ipython",
    "version": 3
   },
   "file_extension": ".py",
   "mimetype": "text/x-python",
   "name": "python",
   "nbconvert_exporter": "python",
   "pygments_lexer": "ipython3",
   "version": "3.8.20"
  }
 },
 "nbformat": 4,
 "nbformat_minor": 2
}
