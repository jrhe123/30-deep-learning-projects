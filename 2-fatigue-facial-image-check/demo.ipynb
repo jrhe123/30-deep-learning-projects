{
 "cells": [
  {
   "cell_type": "code",
   "execution_count": 8,
   "metadata": {},
   "outputs": [],
   "source": [
    "# 68 face points\n",
    "\n",
    "from collections import OrderedDict\n",
    "import numpy as np\n",
    "import argparse\n",
    "import dlib\n",
    "import cv2"
   ]
  },
  {
   "cell_type": "markdown",
   "metadata": {},
   "source": [
    "### params ###\n",
    "\n",
    "--shape-predictor shape_predictor_68_face_landmarks.dat\n",
    "--image images/human_images/img_1.jpeg"
   ]
  },
  {
   "cell_type": "code",
   "execution_count": null,
   "metadata": {},
   "outputs": [],
   "source": [
    "ap = argparse.ArgumentParser()\n",
    "ap.add_argument(\"-p\", \"--shape-predictor\", required=True, help=\"path to facial landmark predictor\")\n",
    "ap.add_argument(\"-i\", \"--image\", required=True, help=\"path to input image\")\n",
    "args = vars(ap.parse_args())\n"
   ]
  },
  {
   "cell_type": "code",
   "execution_count": 10,
   "metadata": {},
   "outputs": [],
   "source": [
    "FACIAL_LANDMARKS_68_IDXS = OrderedDict([\n",
    "    (\"mouth\", (48, 68)),\n",
    "    (\"right_eyebrow\", (17, 22)),\n",
    "    (\"left_eyebrow\", (22, 27)),\n",
    "    (\"right_eye\", (36, 42)),\n",
    "    (\"left_eye\", (42, 48)),\n",
    "    (\"nose\", (27, 36)),\n",
    "    (\"jaw\", (0, 17))\n",
    "])\n",
    "\n",
    "FACIAL_LANDMARKS_5_IDXS = OrderedDict([\n",
    "    (\"right_eye\", (2, 3)),\n",
    "    (\"left_eye\", (0, 1)),\n",
    "    (\"nose\", (4))\n",
    "])"
   ]
  },
  {
   "cell_type": "code",
   "execution_count": 11,
   "metadata": {},
   "outputs": [],
   "source": [
    "def shape_to_np(shape, dtype=\"int\"):\n",
    "    coords = np.zeros((shape.num_parts, 2), dtype=dtype)\n",
    "\n",
    "    for i in range(0, shape.num_parts):\n",
    "        coords[i] = (shape.part(i).x, shape.part(i).y)\n",
    "\n",
    "    return coords"
   ]
  },
  {
   "cell_type": "code",
   "execution_count": 12,
   "metadata": {},
   "outputs": [],
   "source": [
    "def visualize_facial_landmarks(image, shape, colors=None, alpha=0.75):\n",
    "    overlay = image.copy()\n",
    "    output = image.copy()\n",
    "\n",
    "    if colors is None:\n",
    "        colors = [(19, 199, 109), (79, 76, 240), (230, 159, 23),\n",
    "                  (168, 100, 168), (158, 163, 32),\n",
    "                  (163, 38, 32), (180, 42, 220)]\n",
    "\n",
    "    # Iterate over each facial landmark region\n",
    "    for (i, name) in enumerate(FACIAL_LANDMARKS_68_IDXS.keys()):\n",
    "        # Get the coordinates of each point in the region\n",
    "        (j, k) = FACIAL_LANDMARKS_68_IDXS[name]\n",
    "        pts = shape[j:k]\n",
    "\n",
    "        # Check the position\n",
    "        if name == \"jaw\":\n",
    "            # Connect points with lines\n",
    "            for l in range(1, len(pts)):\n",
    "                ptA = tuple(pts[l - 1])\n",
    "                ptB = tuple(pts[l])\n",
    "                cv2.line(overlay, ptA, ptB, colors[i], 2)\n",
    "        else:\n",
    "            # Calculate convex hull\n",
    "            hull = cv2.convexHull(pts)\n",
    "            cv2.drawContours(overlay, [hull], -1, colors[i], -1)\n",
    "\n",
    "    # Overlay on the original image with specified ratio\n",
    "    cv2.addWeighted(overlay, alpha, output, 1 - alpha, 0, output)\n",
    "    return output"
   ]
  },
  {
   "cell_type": "code",
   "execution_count": 13,
   "metadata": {},
   "outputs": [],
   "source": [
    "detector = dlib.get_frontal_face_detector()\n",
    "predictor = dlib.shape_predictor('shape_predictor_68_face_landmarks.dat')\n",
    "\n",
    "image = cv2.imread('../images/human_images/img_1.jpeg')\n",
    "(h, w) = image.shape[:2]\n",
    "width = 500\n",
    "r = width / float(w)\n",
    "dim = (width, int(h * r))\n",
    "image = cv2.resize(image, dim, interpolation = cv2.INTER_AREA)\n",
    "gray = cv2.cvtColor(image, cv2.COLOR_BGR2GRAY)"
   ]
  },
  {
   "cell_type": "code",
   "execution_count": null,
   "metadata": {},
   "outputs": [],
   "source": []
  }
 ],
 "metadata": {
  "kernelspec": {
   "display_name": "30-deep",
   "language": "python",
   "name": "python3"
  },
  "language_info": {
   "codemirror_mode": {
    "name": "ipython",
    "version": 3
   },
   "file_extension": ".py",
   "mimetype": "text/x-python",
   "name": "python",
   "nbconvert_exporter": "python",
   "pygments_lexer": "ipython3",
   "version": "3.12.9"
  }
 },
 "nbformat": 4,
 "nbformat_minor": 2
}
